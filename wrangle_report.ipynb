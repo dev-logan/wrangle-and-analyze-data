{
 "cells": [
  {
   "cell_type": "markdown",
   "metadata": {},
   "source": [
    "## Reporting: wragle_report"
   ]
  },
  {
   "cell_type": "markdown",
   "metadata": {},
   "source": [
    "The csv file was loaded using `read_csv` from downloaded file 'twitter-archive-enhanced.csv'. And I used requests to get response from the url and the contents are saved in the tsv file. I got keys from Twitter API and the queried data are collected in 'tweet_json.txt' After that, read 'tweet_json.txt' to data frame. From the three data frames above, I found 8 quality issues and 3 tidiness issues. The lists are below.\n",
    "\n",
    "### Quality issues\n",
    "1. Replies and retweets are to drop\n",
    "\n",
    "2. Need to find the breed that corresponds to each tweet\n",
    "\n",
    "3. `tweet_id` in `counts` is data type object\n",
    "\n",
    "4. There are cases where `rating_denominator` is not 10\n",
    "\n",
    "5. `timestamp` datatype is not datetime\n",
    "\n",
    "6. `retweet_count` and `favorite_count` are not integer\n",
    "\n",
    "7. `stage` data type would be better as 'category'\n",
    "\n",
    "8. 'None' and 'a' in `name` column\n",
    "\n",
    "### Tidiness issues\n",
    "1. `twitter_archive_enhanced_copy` and `breeds` can be merged\n",
    "\n",
    "2. `twitter_archive_enhanced_copy` and `counts_copy` can be merged\n",
    "\n",
    "3. Columns `doggo`, `floofer`, `pupper`, `puppo` can be in one column\n",
    "\n",
    "To resolve each issue, several codes were run. I dropped the rows in twitter_archive_enhanced which have values in in_reply_to_status_id or retweeted_status_id column. And in image_predictions, the breed with the highest confidence is selected.  The two data frames, twitter_archive_enhanced_copy and breeds, are merged on tweet_id. Also I converted tweet_id in counts data type to int. The columns, doggo, floofer, pupper, puppo, were integrated into one column. The rows whose rating_denominator is not 10 are dropped. And I converted timestamp datatype to datetime. I dropped nulls and converted retweet_count and favorite_count datatype to int. The stage data type is converted to 'category', because the number of its values were limited. And I changed values like 'None', 'an', 'the', 'one' and 'a' in name column to 'NaN'.\n",
    "\n",
    "Combining the above results, the three data frames were merged into one, and they were refined and organized into one data frame, twitter_archive_master. This is saved as a csv file using the to_csv method."
   ]
  },
  {
   "cell_type": "code",
   "execution_count": null,
   "metadata": {},
   "outputs": [],
   "source": []
  }
 ],
 "metadata": {
  "kernelspec": {
   "display_name": "Python 3",
   "language": "python",
   "name": "python3"
  },
  "language_info": {
   "codemirror_mode": {
    "name": "ipython",
    "version": 3
   },
   "file_extension": ".py",
   "mimetype": "text/x-python",
   "name": "python",
   "nbconvert_exporter": "python",
   "pygments_lexer": "ipython3",
   "version": "3.8.11"
  }
 },
 "nbformat": 4,
 "nbformat_minor": 2
}
