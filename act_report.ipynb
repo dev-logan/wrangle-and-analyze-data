{
 "cells": [
  {
   "cell_type": "markdown",
   "metadata": {},
   "source": [
    "## Report: act_report"
   ]
  },
  {
   "cell_type": "markdown",
   "metadata": {},
   "source": [
    "I loaded the saved 'twitter_archive_master.csv' file and saved it to the data frame df. To check the distribution of data, I drew box plots for 'rating_numerator', 'retweet_count', and 'favorite_count'. As a result, clear outliers were found in 'rating_numerator'. Afterwards, it was decided to proceed with the analysis by excluding some outliers that greatly interfere with the observation of trends in the scatter plot. When a scatter plot was drawn with the axes 'retweet_count' and 'rating_numerator', a positive correlation was found. A similar correlation was found when the scatter plot of 'favorite_count' and 'rating_numerator' was drawn.\n",
    "\n",
    "In the 'stage' column, there are 4 types of categories except for null values, 'pupper', 'doggo', 'puppo', and 'floofer'. To see the relationship between the 4 types of stages and 'rating_numerator', a box plot was drawn. As a result, it was found that in the case of 'pupper', the median value of 'rating_numerator' was significantly lower than that of the other three stages.\n",
    "\n",
    "Two types of bar plots were drawn to find out which breeds and names account for a large proportion. We were able to identify the 10 dog breeds that accounted for the largest percentage and 20 names. In terms of dog breeds, 'golden_retriever' accounted for a remarkably large proportion, and 'Cooper', 'Lucy', 'Charlie', and 'Oliver' each accounted for a large proportion with 10 names.\n",
    "\n",
    "A plot date was drawn to know the change trend of 'retweet_count' and 'favorite_count' over time. An upward trend was not clearly seen in 'retweet_count', but an upward trend was observed in 'favorite_count'."
   ]
  },
  {
   "cell_type": "code",
   "execution_count": null,
   "metadata": {},
   "outputs": [],
   "source": []
  }
 ],
 "metadata": {
  "kernelspec": {
   "display_name": "Python 3",
   "language": "python",
   "name": "python3"
  },
  "language_info": {
   "codemirror_mode": {
    "name": "ipython",
    "version": 3
   },
   "file_extension": ".py",
   "mimetype": "text/x-python",
   "name": "python",
   "nbconvert_exporter": "python",
   "pygments_lexer": "ipython3",
   "version": "3.8.11"
  }
 },
 "nbformat": 4,
 "nbformat_minor": 2
}
